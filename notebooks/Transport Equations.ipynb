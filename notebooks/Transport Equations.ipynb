{
 "cells": [
  {
   "cell_type": "markdown",
   "id": "3205be3a-3f39-4d9f-99a9-c81530c00283",
   "metadata": {},
   "source": [
    "# Transport Equations\n",
    "\n",
    "[Transport (or continuity) equations](https://en.wikipedia.org/wiki/Continuity_equation) are some of the simplest and most useful kind of PDEs encountered in physics. They are used to model the transport / movement of some (continuous) quantity."
   ]
  },
  {
   "cell_type": "markdown",
   "id": "b93661db-95c4-4ffc-94d3-851207365aa3",
   "metadata": {},
   "source": [
    "## Classical Transport Equation\n",
    "\n",
    "The transport equation is one of the \"simplest\" partial differential equations, defined by\n",
    "$$\n",
    "    u_t + b \\cdot \\nabla u = 0 \\text{ in } \\symbb{R}^n \\times (0, \\infty)\n",
    "$$\n",
    "for a fixed vector $b \\in \\symbb{R}^n$.\n",
    "\n",
    "We will compute the solution for an instance of this problem numerically."
   ]
  },
  {
   "cell_type": "code",
   "execution_count": 1,
   "id": "f1c71523-d346-448b-9221-8deb4b864b44",
   "metadata": {},
   "outputs": [
    {
     "data": {
      "text/latex": [
       "$$ \\begin{align}\n",
       "2 \\frac{\\mathrm{d}}{\\mathrm{d}y} u\\left( t, x, y \\right) + \\frac{\\mathrm{d}}{\\mathrm{d}x} u\\left( t, x, y \\right) + \\frac{\\mathrm{d}}{\\mathrm{d}t} u\\left( t, x, y \\right) &= 0\n",
       "\\end{align}\n",
       " $$"
      ],
      "text/plain": [
       "PDESystem\n",
       "Equations: Equation[2.0Differential(y)(u(t, x, y)) + Differential(x)(u(t, x, y)) + Differential(t)(u(t, x, y)) ~ 0]\n",
       "Boundary Conditions: Equation[u(0, x, y) ~ 3.989422804014327exp(49.99999999999999(-(x^2) - (y^2)))]\n",
       "Domain: Symbolics.VarDomainPairing[Symbolics.VarDomainPairing(t, 0.0 .. 3.0), Symbolics.VarDomainPairing(x, -3.0 .. 3.0), Symbolics.VarDomainPairing(y, -3.0 .. 3.0)]\n",
       "Dependent Variables: Num[u(t, x, y)]\n",
       "Independent Variables: Num[t, x, y]\n",
       "Parameters: SciMLBase.NullParameters()\n",
       "Default Parameter ValuesDict{Any, Any}()"
      ]
     },
     "execution_count": 1,
     "metadata": {},
     "output_type": "execute_result"
    }
   ],
   "source": [
    "using ModelingToolkit\n",
    "using LinearAlgebra\n",
    "using DomainSets\n",
    "\n",
    "# Parameters, variables, and derivatives\n",
    "@parameters t x y\n",
    "@variables u(..)\n",
    "\n",
    "Dt = Differential(t)\n",
    "Dx = Differential(x)\n",
    "Dy = Differential(y)\n",
    "\n",
    "∇(u) = [Dx(u), Dy(u)]\n",
    "\n",
    "# 2D PDE and boundary conditions\n",
    "b = [1.0, 2.0]\n",
    "\n",
    "equation = Dt(u(t, x, y)) + b ⋅ ∇(u(t, x, y)) ~ 0\n",
    "\n",
    "σ = 0.1\n",
    "normalization_factor = 1 / (sqrt(2 * π) * σ)\n",
    "u₀(x, y) = normalization_factor * exp(-(x^2 + y^2)/(2 * σ^2))\n",
    "\n",
    "boundary_conditions = [u(0, x, y) ~ u₀(x, y)]\n",
    "\n",
    "# Space and time domains\n",
    "domains = [\n",
    "    t ∈ Interval(0.0, 3.0),\n",
    "    x ∈ Interval(-3.0, 3.0),\n",
    "    y ∈ Interval(-3.0, 3.0)\n",
    "]\n",
    "\n",
    "# PDE system\n",
    "@named pde_system = PDESystem(\n",
    "    equation, boundary_conditions, domains, \n",
    "    # Independent variables\n",
    "    [t, x, y], \n",
    "    # Dependent variables\n",
    "    [u(t, x, y)]\n",
    ")"
   ]
  },
  {
   "cell_type": "code",
   "execution_count": 2,
   "id": "868100c2-ae1e-4226-809c-a5335d8d6c49",
   "metadata": {},
   "outputs": [
    {
     "data": {
      "text/plain": [
       "MOLFiniteDifference{MethodOfLines.CenterAlignedGrid, MethodOfLines.ScalarizedDiscretization}(Dict{Num, Int64}(y => 64, x => 64), t, 2, UpwindScheme(1), MethodOfLines.CenterAlignedGrid(), true, false, MethodOfLines.ScalarizedDiscretization(), true, Any[], Base.Pairs{Symbol, Union{}, Tuple{}, @NamedTuple{}}())"
      ]
     },
     "execution_count": 2,
     "metadata": {},
     "output_type": "execute_result"
    }
   ],
   "source": [
    "using MethodOfLines\n",
    "\n",
    "# Method of lines discretization\n",
    "N = 64\n",
    "order = 2\n",
    "discretization = MOLFiniteDifference([x => N, y => N], t)"
   ]
  },
  {
   "cell_type": "code",
   "execution_count": null,
   "id": "7db0b5cf-3752-4f7c-a822-4ed8802646e9",
   "metadata": {
    "editable": true,
    "slideshow": {
     "slide_type": ""
    },
    "tags": []
   },
   "outputs": [],
   "source": [
    "# Convert the PDE problem into an ODE problem\n",
    "ode_problem = discretize(pde_system, discretization);"
   ]
  },
  {
   "cell_type": "code",
   "execution_count": null,
   "id": "d1843a2c-e2d8-47c1-b967-0dcd210bc615",
   "metadata": {},
   "outputs": [],
   "source": [
    "# Solve ODE problem\n",
    "using OrdinaryDiffEq\n",
    "solution = solve(ode_problem, Tsit5(), saveat=0.1)\n",
    "solution.retcode"
   ]
  },
  {
   "cell_type": "code",
   "execution_count": null,
   "id": "ef057a23-044e-4a7e-b8d6-1e3ac20762af",
   "metadata": {},
   "outputs": [],
   "source": [
    "# Plot results\n",
    "discrete_x = solution[x]\n",
    "discrete_y = solution[y]\n",
    "discrete_t = solution[t]\n",
    "solution_u = solution[u(t, x, y)]\n",
    ";"
   ]
  },
  {
   "cell_type": "code",
   "execution_count": null,
   "id": "44e834f8-c7dc-4067-8829-c50d87cae0ef",
   "metadata": {},
   "outputs": [],
   "source": [
    "using Plots\n",
    "\n",
    "default(legend = false)\n",
    "\n",
    "@gif for i in eachindex(discrete_t)\n",
    "    plt = heatmap(solution_u[i, :, :], title=\"Numerical solution, t=$(discrete_t[i])\")\n",
    "end fps=4"
   ]
  },
  {
   "cell_type": "markdown",
   "id": "8f2f55a6-42ec-4cac-932c-07bc1b3ccb7e",
   "metadata": {},
   "source": [
    "## Modified Transport Equation\n",
    "\n",
    "To make things more interesting, let's add an extra term to the classical transport equation.\n",
    "$$\n",
    "    u_t + b \\cdot \\nabla u + c u = 0 \\text{ in } \\symbb{R}^n \\times (0, \\infty)\n",
    "$$\n",
    "for constant $b \\in \\symbb{R}^n$ and $c \\in \\symbb{R}$."
   ]
  },
  {
   "cell_type": "code",
   "execution_count": null,
   "id": "52f711ce-8620-4c5e-94cc-03732746f391",
   "metadata": {},
   "outputs": [],
   "source": [
    "b = 0.5 * [2.0, 1.0]\n",
    "c = 5.0\n",
    "\n",
    "equation = Dt(u(t, x, y)) + b ⋅ ∇(u(t, x, y)) + c * u(t, x, y) ~ 0\n",
    "\n",
    "σ = 0.1\n",
    "normalization_factor = 1.0 / (sqrt(2.0 * π) * σ)\n",
    "u₀(x, y) = normalization_factor * exp(-(x^2 + y^2)/(2 * σ^2))\n",
    "boundary_conditions = [u(0, x, y) ~ u₀(x, y)]\n",
    "\n",
    "# Space and time domains\n",
    "domains = [\n",
    "    t ∈ Interval(0.0, 2.5),\n",
    "    x ∈ Interval(-3.0, 3.0),\n",
    "    y ∈ Interval(-3.0, 3.0)\n",
    "]\n",
    "\n",
    "# PDE system\n",
    "@named pde_system = PDESystem(\n",
    "    equation, boundary_conditions, domains, \n",
    "    # Independent variables\n",
    "    [t, x, y], \n",
    "    # Dependent variables\n",
    "    [u(t, x, y)]\n",
    ")"
   ]
  },
  {
   "cell_type": "code",
   "execution_count": null,
   "id": "c3d96083-3030-48ce-9af5-490e02f387a7",
   "metadata": {},
   "outputs": [],
   "source": [
    "# Convert the PDE problem into an ODE problem\n",
    "ode_problem = discretize(pde_system, discretization)"
   ]
  },
  {
   "cell_type": "code",
   "execution_count": null,
   "id": "64984cd1-e164-4263-a7e7-c707521f12af",
   "metadata": {},
   "outputs": [],
   "source": [
    "# Solve ODE problem\n",
    "using OrdinaryDiffEq\n",
    "solution = solve(ode_problem, Tsit5(), saveat=0.1);\n",
    "solution.retcode"
   ]
  },
  {
   "cell_type": "code",
   "execution_count": null,
   "id": "f4431692-6d95-4e45-8499-fc98d465ccfa",
   "metadata": {},
   "outputs": [],
   "source": [
    "# Plot results\n",
    "discrete_x = solution[x]\n",
    "discrete_y = solution[y]\n",
    "discrete_t = solution[t]\n",
    "solution_u = solution[u(t, x, y)];"
   ]
  },
  {
   "cell_type": "code",
   "execution_count": null,
   "id": "647dd11a-ba00-41b1-92e4-8e9f9d21ffba",
   "metadata": {},
   "outputs": [],
   "source": [
    "using Plots\n",
    "\n",
    "default(legend = false)\n",
    "\n",
    "@gif for i in eachindex(discrete_t)\n",
    "    plt = heatmap(solution_u[i, :, :], title=\"Numerical solution, t=$(discrete_t[i])\")\n",
    "end fps=4"
   ]
  },
  {
   "cell_type": "code",
   "execution_count": null,
   "id": "9cd55b9c-4a50-4207-b6b2-3e57995cbb80",
   "metadata": {},
   "outputs": [],
   "source": []
  }
 ],
 "metadata": {
  "kernelspec": {
   "display_name": "Julia 1.11.2",
   "language": "julia",
   "name": "julia-1.11"
  },
  "language_info": {
   "file_extension": ".jl",
   "mimetype": "application/julia",
   "name": "julia",
   "version": "1.11.2"
  }
 },
 "nbformat": 4,
 "nbformat_minor": 5
}
